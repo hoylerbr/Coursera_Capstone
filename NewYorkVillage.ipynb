{
 "metadata": {
  "language_info": {
   "codemirror_mode": {
    "name": "ipython",
    "version": 3
   },
   "file_extension": ".py",
   "mimetype": "text/x-python",
   "name": "python",
   "nbconvert_exporter": "python",
   "pygments_lexer": "ipython3",
   "version": "3.8.5"
  },
  "orig_nbformat": 2,
  "kernelspec": {
   "name": "python385jvsc74a57bd0bb94ab88fcd8cdad317df0e591a7f4a99f8a8aeb6a020b2c35b0b651a5c6164f",
   "display_name": "Python 3.8.5 32-bit"
  }
 },
 "nbformat": 4,
 "nbformat_minor": 2,
 "cells": [
  {
   "source": [
    "# Coursara Capstone project - Villages of New York"
   ],
   "cell_type": "markdown",
   "metadata": {}
  },
  {
   "source": [
    "## This study will compare the villages of New York both by population and venues."
   ],
   "cell_type": "markdown",
   "metadata": {}
  },
  {
   "source": [
    "Villages have many issues that are similar to larger cities without the resources of larger cities. \n",
    "Some villages are near major cities, others are very rural in which there may not be essential services like\n",
    "hospitals or even grocery stores.\n",
    "\n",
    "We will use foursquare to determine the types of venues available in these villages or the distance to essential services.  We will group the venues using k-means to determine the villages of similar caracteristics \n",
    "that may require similar services.  \n",
    "### The audiance:\n",
    "State and local governments can use the results of this study to allocate resources and develop plans to help the people and their villages.  This help could be in the form of indicating where to build rural medical clinics so everyone in the state can have access to health care."
   ],
   "cell_type": "markdown",
   "metadata": {}
  },
  {
   "cell_type": "code",
   "execution_count": null,
   "metadata": {},
   "outputs": [],
   "source": []
  },
  {
   "source": [
    "### First download the required libraries\n"
   ],
   "cell_type": "markdown",
   "metadata": {}
  },
  {
   "cell_type": "code",
   "execution_count": null,
   "metadata": {},
   "outputs": [],
   "source": [
    "from bs4 import BeautifulSoup # this module helps in web scrapping.\n",
    "import requests  # this module helps us to download a web page\n",
    "print(\"BeautifulSoup installed\")\n",
    "import pandas as pd\n",
    "import numpy as np\n",
    "print('Libraries imported.')\n"
   ]
  },
  {
   "cell_type": "code",
   "execution_count": null,
   "metadata": {},
   "outputs": [],
   "source": [
    "#The below url contains html tables with data about New York villages.\n",
    "villageurl = \"https://en.wikipedia.org/wiki/List_of_villages_in_New_York_(state)\"\n",
    "hospitalurl = \"https://en.wikipedia.org/wiki/List_of_hospitals_in_New_York_(state)\"\n",
    "emergencyurl =\"https://profiles.health.ny.gov/hospital/county_or_region/service:Emergency+Department\"\n",
    "providerurl = \"https://www.health.ny.gov/regulations/hcra/provider/provhosp.htm\"\n",
    "citylisturl =\"http://www.theus50.com/newyork/cities.php\"  #just has the names of the cities\n"
   ]
  },
  {
   "cell_type": "code",
   "execution_count": null,
   "metadata": {},
   "outputs": [],
   "source": [
    "# get the contents of the webpage in text format and store in a variable called data\n",
    "data  = requests.get(url).text"
   ]
  },
  {
   "cell_type": "code",
   "execution_count": null,
   "metadata": {},
   "outputs": [],
   "source": [
    "#soup = BeautifulSoup(data,\"lxml\")\n",
    "soup = BeautifulSoup(data,\"html5lib\")"
   ]
  },
  {
   "cell_type": "code",
   "execution_count": null,
   "metadata": {},
   "outputs": [],
   "source": [
    "#find all html tables in the web page\n",
    "tables = soup.find_all('table') # in html table is represented by the tag <table>"
   ]
  },
  {
   "source": [
    "The following code produces the columns for the dataframe and drops rows with unassigned boroughs"
   ],
   "cell_type": "markdown",
   "metadata": {}
  },
  {
   "cell_type": "code",
   "execution_count": null,
   "metadata": {},
   "outputs": [],
   "source": [
    "tables.len()"
   ]
  },
  {
   "cell_type": "code",
   "execution_count": null,
   "metadata": {},
   "outputs": [],
   "source": [
    "table_contents=[]\n",
    "table=soup.find('table')\n",
    "for row in table.findAll('td'):\n",
    "    cell = {}\n",
    "    if row.span.text=='Not assigned':\n",
    "        pass\n",
    "    else:\n",
    "        cell['Village'] = row.p.text[:3]\n",
    "        cell['County'] = (row.span.text).split('(')[0]\n",
    "        cell['Pop.'] = (((((row.span.text).split('(')[1]).strip(')')).replace(' /',',')).replace(')',' ')).strip(' ')\n",
    "        table_contents.append(cell)\n",
    "#print(table_contents)"
   ]
  },
  {
   "cell_type": "code",
   "execution_count": null,
   "metadata": {},
   "outputs": [],
   "source": [
    "df=pd.DataFrame(table_contents)\n",
    "df"
   ]
  }
 ]
}